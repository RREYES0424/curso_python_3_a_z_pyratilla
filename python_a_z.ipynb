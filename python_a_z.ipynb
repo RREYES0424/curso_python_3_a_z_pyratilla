{
  "nbformat": 4,
  "nbformat_minor": 0,
  "metadata": {
    "colab": {
      "provenance": [],
      "authorship_tag": "ABX9TyNvbTpYLUjMSIeXbVGLc5D0"
    },
    "kernelspec": {
      "name": "python3",
      "display_name": "Python 3"
    },
    "language_info": {
      "name": "python"
    }
  },
  "cells": [
    {
      "cell_type": "markdown",
      "source": [
        "# Variables\n",
        "Es un espacio en la memoria asociado a un identificador (Nombre) donde asignamos valores.\n",
        "\n",
        "En python se asignan ***nombre_variable = valor***"
      ],
      "metadata": {
        "id": "kZS1bCdp0E8G"
      }
    },
    {
      "cell_type": "code",
      "execution_count": 1,
      "metadata": {
        "id": "0xdfT_Jl0Dzw",
        "outputId": "5e2fc796-7a52-4359-d0cb-2cc49cff1486",
        "colab": {
          "base_uri": "https://localhost:8080/"
        }
      },
      "outputs": [
        {
          "output_type": "stream",
          "name": "stdout",
          "text": [
            "Ricardo\n",
            "1\n",
            "True\n"
          ]
        }
      ],
      "source": [
        "x = 1\n",
        "nombre = 'Ricardo' # Variable de tipo string\n",
        "boleano = True # Variable de tipo bool\n",
        "\n",
        "print(nombre)\n",
        "print(x)\n",
        "print(boleano)"
      ]
    },
    {
      "cell_type": "markdown",
      "source": [
        "## Reglas para los nombres de las variables en Python\n",
        "\n",
        "*   Si son dos palabras o mas, se separan con **_**\n",
        "        nombre_variable\n",
        "*   No pueden contener caracteres especiales\n",
        "*   No pueden empezar por numeros\n",
        "*   No pueden llamarse como palabras reservadas\n",
        "*   No puede contener espacios"
      ],
      "metadata": {
        "id": "R62t-mzS3eKv"
      }
    },
    {
      "cell_type": "markdown",
      "source": [
        "## Declarar multiples variables en una sola linea"
      ],
      "metadata": {
        "id": "aJ94MhsO2wxk"
      }
    },
    {
      "cell_type": "code",
      "source": [
        "variable1, variable_2, variable3 = 10, 'Hola', True # Asignamos un valor diferente a cada variable\n",
        "#nom1, nom2, nom3 = 'Ricardo' # Asignamos el mismo valor a las 3 variables"
      ],
      "metadata": {
        "id": "l3poQnkI26Fk"
      },
      "execution_count": 2,
      "outputs": []
    },
    {
      "cell_type": "markdown",
      "source": [
        "## Operando con una variable numerica"
      ],
      "metadata": {
        "id": "Q8JTARbi5blL"
      }
    },
    {
      "cell_type": "code",
      "source": [
        "a = 5\n",
        "b = 9\n",
        "c = a + b\n",
        "print(c)\n",
        "a += 1 # Sumamos 1 a la variable a\n",
        "print(a)"
      ],
      "metadata": {
        "id": "HWeJXIOg5ftN",
        "colab": {
          "base_uri": "https://localhost:8080/"
        },
        "outputId": "fae04e62-8c51-45d5-ff2f-1463a983cb09"
      },
      "execution_count": 3,
      "outputs": [
        {
          "output_type": "stream",
          "name": "stdout",
          "text": [
            "14\n",
            "6\n"
          ]
        }
      ]
    },
    {
      "cell_type": "markdown",
      "source": [
        "Al igual que existe **+=**, tambien tenemos los operadores **-=**, ***=**, **/=**, **//=**, **%=** y ****=**, que son el resto de operadores que tenemos con Python"
      ],
      "metadata": {
        "id": "NmxKpFhd7yd9"
      }
    },
    {
      "cell_type": "markdown",
      "source": [
        "# La funcion import\n",
        "\n",
        "\n",
        "*   **Algoritmo:** Conjunto ordenado de operaciones sistematicas que permite hacer un calculo o hallar la solucion a un problema\n",
        "*   **Funcion:** Bloque de codigo con un nombre asociado que recibe cero o mas argumentos como entrada, sigue una secuencia de sentencias, las cuales ejecuta una operacion deseada y devuelve un valor o realiza una tarea\n",
        "*   **Script:** Archivo diseñado para ser ejecutado. Puede contener funciones, programas, etc\n",
        "*   **Modulo:** Scrip que contiene colecciones de funciones, definiciones y declaraciones\n",
        "\n",
        "Con import podemos importar modulos con funciones especificas, como la libreria math."
      ],
      "metadata": {
        "id": "y1Z2hSRl989u"
      }
    },
    {
      "cell_type": "code",
      "source": [
        "import math"
      ],
      "metadata": {
        "id": "5yDoLc2q_N6a"
      },
      "execution_count": 4,
      "outputs": []
    },
    {
      "cell_type": "markdown",
      "source": [
        "A la hora de usar funciones de un modulo que hemos importado, debemos usar la siguiente sintaxis:"
      ],
      "metadata": {
        "id": "hlXI2HWTAMVl"
      }
    },
    {
      "cell_type": "code",
      "source": [
        "#Aqui mandamos a llamar la funcion str del modulo math"
      ],
      "metadata": {
        "id": "Qn13br-7AfAZ"
      },
      "execution_count": 5,
      "outputs": []
    },
    {
      "cell_type": "markdown",
      "source": [
        "## Asignar alias a una libreria importada\n",
        "Pero para evitarnos poner el nombre completo del modulo, podemos asignarle un alias al momento de importarlo con la palabra reservada **as**:"
      ],
      "metadata": {
        "id": "t0CqFU2QA_0V"
      }
    },
    {
      "cell_type": "code",
      "source": [
        "import math as mt\n",
        "mt.sqrt(10) #Aqui mandamos a llamar la funcion sqrt del modulo math"
      ],
      "metadata": {
        "id": "7SNuNYqzBLHY",
        "colab": {
          "base_uri": "https://localhost:8080/"
        },
        "outputId": "ac0c6302-ae45-4bbb-da06-aee6cac1baca"
      },
      "execution_count": 6,
      "outputs": [
        {
          "output_type": "execute_result",
          "data": {
            "text/plain": [
              "3.1622776601683795"
            ]
          },
          "metadata": {},
          "execution_count": 6
        }
      ]
    },
    {
      "cell_type": "markdown",
      "source": [
        "## Importar solo una funcion o variable\n",
        "En el caso que solo ocupemos una funcion o variable en especifico, podemos evitarnos importar todo el modulo y solo importar lo que necesitamos:"
      ],
      "metadata": {
        "id": "-ZIrsV_2BxFC"
      }
    },
    {
      "cell_type": "code",
      "source": [
        "from math import pi\n",
        "from math import pi as mt_pi #Le asignamos un alias\n",
        "mt_pi"
      ],
      "metadata": {
        "id": "j3ZGBcDdCBff",
        "colab": {
          "base_uri": "https://localhost:8080/"
        },
        "outputId": "2b614183-7de1-474e-e4d2-651e0a110656"
      },
      "execution_count": 7,
      "outputs": [
        {
          "output_type": "execute_result",
          "data": {
            "text/plain": [
              "3.141592653589793"
            ]
          },
          "metadata": {},
          "execution_count": 7
        }
      ]
    },
    {
      "cell_type": "markdown",
      "source": [
        "## Importar varias funciones o variables de un modulo\n",
        "Podemos importar varias funciones o variables de un modulo de la siguiente manera, evitandonos tener que usar el nombre del modulo, basta solo colocando el nombre de la funcion o variable que importamos."
      ],
      "metadata": {
        "id": "AyebTyvxC0Xk"
      }
    },
    {
      "cell_type": "code",
      "source": [
        "from math import pi, log, exp"
      ],
      "metadata": {
        "id": "8FL3hz9xDA2c"
      },
      "execution_count": 8,
      "outputs": []
    },
    {
      "cell_type": "markdown",
      "source": [
        "## Usar las funciones sin colocar el nombre de la libreria antes\n",
        "Podemos importar todas las funciones de la siguiente memoria, de esta manera evitamos usar las funciones sin colocar antes el nombre de la libreria, pero es un problema ya que no tendriamos referencia a que modulo queremos utilizar en el caso que haya dos funciones con el mismo nombre."
      ],
      "metadata": {
        "id": "M7xhPOKbDa0Z"
      }
    },
    {
      "cell_type": "code",
      "source": [
        "from math import * #ESTO ES LA PRACTICA MENOS RECOMENDABLE\n",
        "pi"
      ],
      "metadata": {
        "id": "exzF8UTPD3NR",
        "colab": {
          "base_uri": "https://localhost:8080/"
        },
        "outputId": "16b8b719-ab15-473c-9a9c-54b4cd37f4dc"
      },
      "execution_count": 9,
      "outputs": [
        {
          "output_type": "execute_result",
          "data": {
            "text/plain": [
              "3.141592653589793"
            ]
          },
          "metadata": {},
          "execution_count": 9
        }
      ]
    },
    {
      "cell_type": "markdown",
      "source": [
        "# Numeros"
      ],
      "metadata": {
        "id": "3siFYw_GOycx"
      }
    },
    {
      "cell_type": "markdown",
      "source": [
        "## Tipos de numeros\n",
        "Hay dos tipos de numeros basicos en Python:\n",
        "*   **int:** Numeros enteros\n",
        "*   **float:** Numeros con punto decimal\n",
        "\n",
        "Con la funcion type() podemos saber que tipo de dato es"
      ],
      "metadata": {
        "id": "ZEZS3o6uO2OM"
      }
    },
    {
      "cell_type": "code",
      "source": [
        "type(5)"
      ],
      "metadata": {
        "id": "tg9jUjYBPOCH",
        "colab": {
          "base_uri": "https://localhost:8080/"
        },
        "outputId": "ae9e38ea-d63c-4a0b-ec17-4fa319eb491d"
      },
      "execution_count": 10,
      "outputs": [
        {
          "output_type": "execute_result",
          "data": {
            "text/plain": [
              "int"
            ]
          },
          "metadata": {},
          "execution_count": 10
        }
      ]
    },
    {
      "cell_type": "code",
      "source": [
        "type(5.0)"
      ],
      "metadata": {
        "colab": {
          "base_uri": "https://localhost:8080/"
        },
        "id": "XYwAPyO8M0Yh",
        "outputId": "f3442550-96ec-4995-9d5d-b3e8d5c1c56c"
      },
      "execution_count": 11,
      "outputs": [
        {
          "output_type": "execute_result",
          "data": {
            "text/plain": [
              "float"
            ]
          },
          "metadata": {},
          "execution_count": 11
        }
      ]
    },
    {
      "cell_type": "code",
      "source": [
        "type(3.)"
      ],
      "metadata": {
        "colab": {
          "base_uri": "https://localhost:8080/"
        },
        "id": "6p6A0Mu6Q38u",
        "outputId": "40535c14-348d-4125-95a4-41218e810300"
      },
      "execution_count": 12,
      "outputs": [
        {
          "output_type": "execute_result",
          "data": {
            "text/plain": [
              "float"
            ]
          },
          "metadata": {},
          "execution_count": 12
        }
      ]
    },
    {
      "cell_type": "markdown",
      "source": [
        "## Casting (Transformar tipos de datos)\n",
        "Si queremos transformar tipos de datos, por ejemplo int a float, usamos casting.\n",
        "\n",
        "Si pasamos de float a int, perdemos la parte decimal."
      ],
      "metadata": {
        "id": "XSF8ZnE_P2rG"
      }
    },
    {
      "cell_type": "code",
      "source": [
        "type(int(7.25))"
      ],
      "metadata": {
        "id": "NTvrtK11QEYg",
        "colab": {
          "base_uri": "https://localhost:8080/"
        },
        "outputId": "775d0b7b-5204-43bb-ab31-1787044a983c"
      },
      "execution_count": 13,
      "outputs": [
        {
          "output_type": "execute_result",
          "data": {
            "text/plain": [
              "int"
            ]
          },
          "metadata": {},
          "execution_count": 13
        }
      ]
    },
    {
      "cell_type": "code",
      "source": [
        "type(int(4.))"
      ],
      "metadata": {
        "colab": {
          "base_uri": "https://localhost:8080/"
        },
        "id": "3fJcz3D0R0Yt",
        "outputId": "3522eb38-ba7f-4f00-a36b-26686d4f2ce1"
      },
      "execution_count": 14,
      "outputs": [
        {
          "output_type": "execute_result",
          "data": {
            "text/plain": [
              "int"
            ]
          },
          "metadata": {},
          "execution_count": 14
        }
      ]
    },
    {
      "cell_type": "code",
      "source": [
        "type(float(6))"
      ],
      "metadata": {
        "colab": {
          "base_uri": "https://localhost:8080/"
        },
        "id": "ijGSLn1ORwz_",
        "outputId": "36925a48-cc79-4f37-a929-ddde9302701a"
      },
      "execution_count": 15,
      "outputs": [
        {
          "output_type": "execute_result",
          "data": {
            "text/plain": [
              "float"
            ]
          },
          "metadata": {},
          "execution_count": 15
        }
      ]
    },
    {
      "cell_type": "markdown",
      "source": [
        "## Operaciones Aritmeticas"
      ],
      "metadata": {
        "id": "EYveutmlZnU_"
      }
    },
    {
      "cell_type": "markdown",
      "source": [
        "### Suma\n",
        "Para sumar dos o mas numeros usamos el operador de +.\n",
        "\n",
        "La suma de dos enteros da un entero, pero la suma de un entero y un float, da como resultado un float.\n"
      ],
      "metadata": {
        "id": "Ka3FsYmpRMoL"
      }
    },
    {
      "cell_type": "code",
      "source": [
        "2 + 3"
      ],
      "metadata": {
        "id": "RTWb_xi5R5BJ",
        "colab": {
          "base_uri": "https://localhost:8080/"
        },
        "outputId": "fb06cb4b-b46d-43be-e1f1-8a6d9e8b8d2c"
      },
      "execution_count": 16,
      "outputs": [
        {
          "output_type": "execute_result",
          "data": {
            "text/plain": [
              "5"
            ]
          },
          "metadata": {},
          "execution_count": 16
        }
      ]
    },
    {
      "cell_type": "code",
      "source": [
        "25.65 + 50"
      ],
      "metadata": {
        "colab": {
          "base_uri": "https://localhost:8080/"
        },
        "id": "UtGlFVniS51G",
        "outputId": "83a09aa1-5958-4511-f29f-6fd649beaeb7"
      },
      "execution_count": 17,
      "outputs": [
        {
          "output_type": "execute_result",
          "data": {
            "text/plain": [
              "75.65"
            ]
          },
          "metadata": {},
          "execution_count": 17
        }
      ]
    },
    {
      "cell_type": "markdown",
      "source": [
        "### Resta\n",
        "Para restar dos o mas numeros usamos el operador de -.\n",
        "\n",
        "La resta de dos enteros da un entero, pero la resta de un entero y un float, da como resultado un float."
      ],
      "metadata": {
        "id": "iUqBl7RrSXo5"
      }
    },
    {
      "cell_type": "code",
      "source": [
        "7 - 3"
      ],
      "metadata": {
        "id": "2Ed_2OhxShMt",
        "outputId": "f6528cff-8704-47da-872b-dcda6725808d",
        "colab": {
          "base_uri": "https://localhost:8080/"
        }
      },
      "execution_count": 18,
      "outputs": [
        {
          "output_type": "execute_result",
          "data": {
            "text/plain": [
              "4"
            ]
          },
          "metadata": {},
          "execution_count": 18
        }
      ]
    },
    {
      "cell_type": "code",
      "source": [
        "125.3 - 25"
      ],
      "metadata": {
        "colab": {
          "base_uri": "https://localhost:8080/"
        },
        "id": "f9EtdVloTSZf",
        "outputId": "eb0da537-008c-4238-e15c-b5645b98de01"
      },
      "execution_count": 19,
      "outputs": [
        {
          "output_type": "execute_result",
          "data": {
            "text/plain": [
              "100.3"
            ]
          },
          "metadata": {},
          "execution_count": 19
        }
      ]
    },
    {
      "cell_type": "markdown",
      "source": [
        "### Multiplicacion\n",
        "Para multiplicar dos o mas numeros usamos el operador de *.\n",
        "\n",
        "La multiplicacion de dos enteros da un entero, pero la multiplicacion de un entero y un float, da como resultado un float.\n"
      ],
      "metadata": {
        "id": "2Q2pMNF-SmpP"
      }
    },
    {
      "cell_type": "code",
      "source": [
        "8 * 6"
      ],
      "metadata": {
        "id": "fSabitbFStOS",
        "colab": {
          "base_uri": "https://localhost:8080/"
        },
        "outputId": "f2bd925b-674f-4e16-f0e9-81979756f1d3"
      },
      "execution_count": 20,
      "outputs": [
        {
          "output_type": "execute_result",
          "data": {
            "text/plain": [
              "48"
            ]
          },
          "metadata": {},
          "execution_count": 20
        }
      ]
    },
    {
      "cell_type": "code",
      "source": [
        "8.36 * 20"
      ],
      "metadata": {
        "colab": {
          "base_uri": "https://localhost:8080/"
        },
        "id": "kqlv2aaBTWVo",
        "outputId": "25ecb5d3-1a3d-47f6-af8f-2c1ed7a8ee81"
      },
      "execution_count": 21,
      "outputs": [
        {
          "output_type": "execute_result",
          "data": {
            "text/plain": [
              "167.2"
            ]
          },
          "metadata": {},
          "execution_count": 21
        }
      ]
    },
    {
      "cell_type": "markdown",
      "source": [
        "### Division\n",
        "Para dividir dos numeros usamos el operador de /.\n",
        "\n",
        "En algunas versiones de Python, al dividir dos numeros enteros, se lleva a cabo la division entera de manera automatica.\n",
        "Podemos poner al menos un numero float para asegurarnos que no hara la division entera."
      ],
      "metadata": {
        "id": "ha0XPcBZSwra"
      }
    },
    {
      "cell_type": "code",
      "source": [
        "6 / 5"
      ],
      "metadata": {
        "id": "z0S02A1xS11M",
        "colab": {
          "base_uri": "https://localhost:8080/"
        },
        "outputId": "1ca97836-dd70-4beb-87d3-2f750775dd25"
      },
      "execution_count": 22,
      "outputs": [
        {
          "output_type": "execute_result",
          "data": {
            "text/plain": [
              "1.2"
            ]
          },
          "metadata": {},
          "execution_count": 22
        }
      ]
    },
    {
      "cell_type": "code",
      "source": [
        "4 / 2"
      ],
      "metadata": {
        "colab": {
          "base_uri": "https://localhost:8080/"
        },
        "id": "B7MX587QTbmj",
        "outputId": "f4b3befe-57b2-482f-8b34-19610bc30524"
      },
      "execution_count": 23,
      "outputs": [
        {
          "output_type": "execute_result",
          "data": {
            "text/plain": [
              "2.0"
            ]
          },
          "metadata": {},
          "execution_count": 23
        }
      ]
    },
    {
      "cell_type": "markdown",
      "source": [
        "### Division entera o euclidea\n",
        "Se utiliza para calcular el cociente de la división de dos números enteros. Esto significa que, en lugar de obtener un resultado decimal, obtendrás un número entero que representa la parte entera del cociente y se usa el operador //."
      ],
      "metadata": {
        "id": "U5DDzx5zTVXM"
      }
    },
    {
      "cell_type": "code",
      "source": [
        "10 // 3"
      ],
      "metadata": {
        "id": "WgVdD8tFT8Rq",
        "colab": {
          "base_uri": "https://localhost:8080/"
        },
        "outputId": "a9c16529-21b9-4451-b0af-7ccb37eb9e3a"
      },
      "execution_count": 24,
      "outputs": [
        {
          "output_type": "execute_result",
          "data": {
            "text/plain": [
              "3"
            ]
          },
          "metadata": {},
          "execution_count": 24
        }
      ]
    },
    {
      "cell_type": "code",
      "source": [
        "10 / 3"
      ],
      "metadata": {
        "colab": {
          "base_uri": "https://localhost:8080/"
        },
        "id": "Fj4__fF0Udqp",
        "outputId": "82279b52-087d-4066-b585-6ad7bac0b62c"
      },
      "execution_count": 25,
      "outputs": [
        {
          "output_type": "execute_result",
          "data": {
            "text/plain": [
              "3.3333333333333335"
            ]
          },
          "metadata": {},
          "execution_count": 25
        }
      ]
    },
    {
      "cell_type": "markdown",
      "source": [
        "### Division modulo\n",
        "Devuelve el residuo de una división entre dos números enteros y se usa el operador %."
      ],
      "metadata": {
        "id": "iZUldVbZUE_V"
      }
    },
    {
      "cell_type": "code",
      "source": [
        "10 % 3"
      ],
      "metadata": {
        "id": "T-0wK7q_UXwD",
        "colab": {
          "base_uri": "https://localhost:8080/"
        },
        "outputId": "4da255a8-b8cd-4dee-f78a-bcd504fd2cfb"
      },
      "execution_count": 26,
      "outputs": [
        {
          "output_type": "execute_result",
          "data": {
            "text/plain": [
              "1"
            ]
          },
          "metadata": {},
          "execution_count": 26
        }
      ]
    },
    {
      "cell_type": "markdown",
      "source": [
        "### Potencia\n",
        "Para calcular la potencia de un numero se usa el operador **.\n"
      ],
      "metadata": {
        "id": "5evBryr0UgLW"
      }
    },
    {
      "cell_type": "code",
      "source": [
        "5 ** 3"
      ],
      "metadata": {
        "colab": {
          "base_uri": "https://localhost:8080/"
        },
        "id": "Muq9Tx9TVY0G",
        "outputId": "8d795354-fdc1-4b9f-89af-8cb377feca2e"
      },
      "execution_count": 27,
      "outputs": [
        {
          "output_type": "execute_result",
          "data": {
            "text/plain": [
              "125"
            ]
          },
          "metadata": {},
          "execution_count": 27
        }
      ]
    },
    {
      "cell_type": "markdown",
      "source": [
        "### Potencia con pow()\n",
        "Para calcular la potencia tambien podemos usar el operador pow()."
      ],
      "metadata": {
        "id": "o-wIgbw6VomP"
      }
    },
    {
      "cell_type": "code",
      "source": [
        "mt.pow(5, 3)"
      ],
      "metadata": {
        "colab": {
          "base_uri": "https://localhost:8080/"
        },
        "id": "o_WgTTqdVy7U",
        "outputId": "cdd574b6-d4fc-4fe1-a6b8-00ae6018831b"
      },
      "execution_count": 28,
      "outputs": [
        {
          "output_type": "execute_result",
          "data": {
            "text/plain": [
              "125.0"
            ]
          },
          "metadata": {},
          "execution_count": 28
        }
      ]
    },
    {
      "cell_type": "markdown",
      "source": [
        "### Orden de las operaciones aritmeticas\n",
        "El orden en que se llevan a cabo las operaciones es:\n",
        "*   Primero se calcula lo que se encuentre entre parentesis.\n",
        "*   Despues las potencias.\n",
        "*   Luego, multiplicaciones y divisiones, en caso de haber varias, el orden que se sigue es de izquierda a derecha.\n",
        "*   Finalmente, sumas y restas, en caso de haber varias, el orden que se sigue es de izquierda a derecha.\n"
      ],
      "metadata": {
        "id": "IYR5MLdhWYF_"
      }
    },
    {
      "cell_type": "code",
      "source": [
        "6 + 2 * 8 / 4 - 2 ** 3"
      ],
      "metadata": {
        "id": "0wYgw4g-W7F1",
        "colab": {
          "base_uri": "https://localhost:8080/"
        },
        "outputId": "d5c06c08-0d8f-4b6e-c57c-b7ac6fcdd8ed"
      },
      "execution_count": 29,
      "outputs": [
        {
          "output_type": "execute_result",
          "data": {
            "text/plain": [
              "2.0"
            ]
          },
          "metadata": {},
          "execution_count": 29
        }
      ]
    },
    {
      "cell_type": "code",
      "source": [
        "(6 + 2) * (8 / (4 - 2)) ** 3"
      ],
      "metadata": {
        "colab": {
          "base_uri": "https://localhost:8080/"
        },
        "id": "Hf-pCCrVW98g",
        "outputId": "a6bf9044-7c00-4687-b769-590e82f43a7d"
      },
      "execution_count": 30,
      "outputs": [
        {
          "output_type": "execute_result",
          "data": {
            "text/plain": [
              "512.0"
            ]
          },
          "metadata": {},
          "execution_count": 30
        }
      ]
    },
    {
      "cell_type": "code",
      "source": [
        "(6 + 2) * 8 / (4 - 2) ** 3"
      ],
      "metadata": {
        "id": "SJk2OJ9nXGK-",
        "outputId": "f38704f3-9ba0-4253-89ad-b3ac1b083cb8",
        "colab": {
          "base_uri": "https://localhost:8080/"
        }
      },
      "execution_count": 31,
      "outputs": [
        {
          "output_type": "execute_result",
          "data": {
            "text/plain": [
              "8.0"
            ]
          },
          "metadata": {},
          "execution_count": 31
        }
      ]
    },
    {
      "cell_type": "markdown",
      "source": [
        "## Numeros Complejos\n",
        "Los numeros complejos surgen cuando los numeros reales no son suficientes para ciertas operaciones y que han resultado utiles en el analisis.\n",
        "\n",
        "Nacen cuando se intenta resolver una ecuacion donde aparece una raiz cuadrada de un numero negativo."
      ],
      "metadata": {
        "id": "rcXC0jJwZhB4"
      }
    },
    {
      "cell_type": "markdown",
      "metadata": {
        "id": "CyFbhpyECDnl"
      },
      "source": [
        "### Definiciones\n",
        "\n",
        "\n",
        "- **Número complejo.** Es un par ordenado de números reales $z = (a, b)$, con $a,b\\in\\mathbb{R}$.\n",
        "- **Parte real.** Es el primer elemento del par ordenado, $\\text{Re}(z) = a$.\n",
        "- **Parte imaginaria.** Es el segundo elemento del par ordenado, $\\text{Im}(z) = b$.\n",
        "- **Complejo real.** $z = (a, 0)$.\n",
        "- **Imaginario puro.** $z = (0, b)$.\n",
        "- **Unidad imaginaria.** $i = (0, 1)$.\n",
        "- **Conjunto de números complejos.** $\\mathbb{C} = \\{z = (a,b)\\ :\\ a,b\\in\\mathbb{R}\\}$.\n",
        "\n"
      ]
    },
    {
      "cell_type": "markdown",
      "metadata": {
        "id": "-1cj7iqWCFGU"
      },
      "source": [
        "### Operaciones\n",
        "\n",
        "- Suma: $(a, b) + (c, d) = (a + c, b + d)$\n",
        "- Resta: $(a, b) - (c, d) = (a - c, b - d)$\n",
        "- Producto: $(a, b) \\cdot (c, d) = (a \\cdot c - b \\cdot d, a\\cdot d + b\\cdot c)$\n",
        "- División: $(a, b) \\div (c, d) = \\frac{(a \\cdot c + b \\cdot d, b \\cdot c - a \\cdot d)}{c^2 + d^2} = \\left(\\frac{a \\cdot c + b \\cdot d}{c^2 + d^2},\\frac{b \\cdot c - a \\cdot d}{c^2 + d^2}\\right)$\n",
        "\n"
      ]
    },
    {
      "cell_type": "markdown",
      "metadata": {
        "id": "lEz__b2GCGoZ"
      },
      "source": [
        "### Conjugado, Módulo y Argumento\n",
        "\n",
        "Dado un complejo $z = (a,b)$,\n",
        "\n",
        "- **Conjugado.** $\\bar{z} = (a, -b)$.\n",
        "- **Módulo.** $\\text{Mod}(z) = |z| = \\sqrt{\\text{Re}(z)^2 + \\text{Im}(z)^2} = \\sqrt{a^2 + b^2}$.\n",
        "- **Argumento.** $\\text{Arg}(z) = \\arctan\\left(\\frac{\\text{Im}(z)}{\\text{Re}(z)}\\right) = \\arctan\\left(\\frac{b}{a}\\right)$\n",
        "\n"
      ]
    },
    {
      "cell_type": "markdown",
      "metadata": {
        "id": "wcrZgFPRCH5X"
      },
      "source": [
        "### Unidad imaginaria\n",
        "\n",
        "$i = (0, 1)$ satisface\n",
        "\n",
        "$$i^2 = (0, 1)^2 = (0, 1)\\cdot (0, 1) = (-1, 0)$$\n",
        "\n",
        "De aquí obtenemos la igualdad $i = \\sqrt{-1}$, que es otra de las definiciones que se le da a la unidad imaginaria.\n",
        "\n"
      ]
    },
    {
      "cell_type": "markdown",
      "metadata": {
        "id": "9muVLk51CJEc"
      },
      "source": [
        "### Otras representaciones\n",
        "\n",
        "Representación binómica: $z = a + bi$\n",
        "\n",
        "- $a = \\text{Re}(z)$\n",
        "- $b = \\text{Im}(z)$\n",
        "\n",
        "Representación polar: $z = re^{i\\phi}$\n",
        "\n",
        "- $r = \\text{Mod}(z)$\n",
        "- $\\phi = \\text{Arg}(z)$"
      ]
    },
    {
      "cell_type": "markdown",
      "metadata": {
        "id": "3t2_gS8rB_S3"
      },
      "source": [
        "\n",
        "### Números complejos en `Python`\n",
        "\n",
        "**Observación.** En `Python`, los números complejos se definen en forma binómica y en vez de utilizar una `i`, se utiliza la letra `j` para representar la unidad imaginaria.\n",
        "\n"
      ]
    },
    {
      "cell_type": "code",
      "metadata": {
        "id": "gi1AkKvcXkeE"
      },
      "source": [],
      "execution_count": 31,
      "outputs": []
    },
    {
      "cell_type": "code",
      "metadata": {
        "id": "I4A7wfd6dzY0"
      },
      "source": [],
      "execution_count": 31,
      "outputs": []
    },
    {
      "cell_type": "markdown",
      "metadata": {
        "id": "STMrzIARd5xX"
      },
      "source": [
        "También podemos definir números complejos en `Python` con la función `complex()`"
      ]
    },
    {
      "cell_type": "code",
      "metadata": {
        "id": "fCwnmAp2d2_m"
      },
      "source": [],
      "execution_count": 31,
      "outputs": []
    },
    {
      "cell_type": "code",
      "metadata": {
        "id": "RjklDHWWd-aq"
      },
      "source": [],
      "execution_count": 31,
      "outputs": []
    },
    {
      "cell_type": "markdown",
      "metadata": {
        "id": "07A6HHDl_S06"
      },
      "source": [
        "Para obtener la parte real, utilizamos el método `.real`"
      ]
    },
    {
      "cell_type": "code",
      "metadata": {
        "id": "3-W1icz_d_HT"
      },
      "source": [],
      "execution_count": 31,
      "outputs": []
    },
    {
      "cell_type": "markdown",
      "metadata": {
        "id": "TUes0F0c_WsI"
      },
      "source": [
        "Para obtener la parte imaginaria, utilizamos el método `.imag`"
      ]
    },
    {
      "cell_type": "code",
      "metadata": {
        "id": "ifODsy08_Vsq"
      },
      "source": [],
      "execution_count": 31,
      "outputs": []
    },
    {
      "cell_type": "markdown",
      "metadata": {
        "id": "6T4K84e-_ex7"
      },
      "source": [
        "Para sumar números complejos, utilizamos la función `+`"
      ]
    },
    {
      "cell_type": "code",
      "metadata": {
        "id": "UjST8q0j_Z9c"
      },
      "source": [],
      "execution_count": 31,
      "outputs": []
    },
    {
      "cell_type": "markdown",
      "metadata": {
        "id": "ZSnIb7gK_i2S"
      },
      "source": [
        "Para restar números complejos, utilizamos la función `-`"
      ]
    },
    {
      "cell_type": "code",
      "metadata": {
        "id": "Dnj8COfl_csJ"
      },
      "source": [],
      "execution_count": 31,
      "outputs": []
    },
    {
      "cell_type": "markdown",
      "metadata": {
        "id": "ukK7dawe_lz9"
      },
      "source": [
        "Para multiplicar una constante por un número complejo, o bien multiplicar dos números complejos, utilizamos la función `*`"
      ]
    },
    {
      "cell_type": "code",
      "metadata": {
        "id": "gjQ0sBz1_k7s"
      },
      "source": [],
      "execution_count": 31,
      "outputs": []
    },
    {
      "cell_type": "code",
      "metadata": {
        "id": "8nIF9I8n_qo6"
      },
      "source": [],
      "execution_count": 31,
      "outputs": []
    },
    {
      "cell_type": "markdown",
      "metadata": {
        "id": "66NOmMzQ_sfh"
      },
      "source": [
        "Para dividir números complejos, utilizamos la función `/`"
      ]
    },
    {
      "cell_type": "code",
      "metadata": {
        "id": "-xHQhzzn_rs-"
      },
      "source": [],
      "execution_count": 31,
      "outputs": []
    },
    {
      "cell_type": "markdown",
      "metadata": {
        "id": "P43dIsZO_x8X"
      },
      "source": [
        "**Observación.** Si queremos indicar que la parte imaginaria es 1 o -1, no basta con poner `j` o `-j`, sino que hay que escribir `1j` o `-1j`, siempre que definamos el número complejo en su forma binómica.\n",
        "\n",
        "Para calcular el conjugado de un número complejo, utilizamos el método `.conjugate()`"
      ]
    },
    {
      "cell_type": "code",
      "metadata": {
        "id": "wcgbkdEj_wmp"
      },
      "source": [],
      "execution_count": 31,
      "outputs": []
    },
    {
      "cell_type": "markdown",
      "metadata": {
        "id": "-FeczLvPAJAh"
      },
      "source": [
        "Para calcular el módulo de un número complejo, utilizamos la función `abs()`"
      ]
    },
    {
      "cell_type": "code",
      "metadata": {
        "id": "KTc0OOHKAGcl"
      },
      "source": [],
      "execution_count": 31,
      "outputs": []
    },
    {
      "cell_type": "markdown",
      "metadata": {
        "id": "A8wRA_JsAMt8"
      },
      "source": [
        "Para calcular el argumento de un número complejo, utilizamos la función `phase()` del paquete `cmath`."
      ]
    },
    {
      "cell_type": "code",
      "metadata": {
        "id": "Ck8u6atKALvV"
      },
      "source": [],
      "execution_count": 31,
      "outputs": []
    },
    {
      "cell_type": "markdown",
      "metadata": {
        "id": "BwcTwZmZAgWe"
      },
      "source": [
        "Para pasar de forma binómica a forma polar, usamos la función `polar()` del paquete `cmath`."
      ]
    },
    {
      "cell_type": "code",
      "metadata": {
        "id": "xPOAqf2rA8gC"
      },
      "source": [],
      "execution_count": 31,
      "outputs": []
    },
    {
      "cell_type": "code",
      "metadata": {
        "id": "_tiVpgPqAdu0"
      },
      "source": [],
      "execution_count": 31,
      "outputs": []
    },
    {
      "cell_type": "markdown",
      "metadata": {
        "id": "A6cLaSYOAyiq"
      },
      "source": [
        "Para pasar de forma polar a forma binómica, usamos la función `rect()` del paquete `cmath`."
      ]
    },
    {
      "cell_type": "code",
      "metadata": {
        "id": "PzY6qrX4Al2m"
      },
      "source": [],
      "execution_count": 31,
      "outputs": []
    },
    {
      "cell_type": "markdown",
      "source": [
        "# String (Cadenas de caracteres)\n",
        "Las variables string (str) en Python pueden ir en comilla simple o doble."
      ],
      "metadata": {
        "id": "0_20fw9RoeuR"
      }
    },
    {
      "cell_type": "code",
      "source": [],
      "metadata": {
        "id": "anpgPhuKv2mS"
      },
      "execution_count": 31,
      "outputs": []
    },
    {
      "cell_type": "markdown",
      "source": [
        "## String literals\n",
        "Hay algunos caracteres que debemos escribir de forma especial.\n",
        "\n",
        "Aquí entran en juego los string literals. Algunos de los más utilizados se muestran en la siguiente tabla:\n",
        "\n",
        "Código | Significado |\n",
        "--- | --- |\n",
        "`\\\\` | Backslash, `\\`|\n",
        "`\\'` | Comilla simple, `'`|\n",
        "`\\\"` | Comilla doble, `\"`|  \n",
        "`\\n` | Salto de línea|\n",
        "`\\t` | Tabulación horizontal|\n",
        "\n",
        "Para más información acerca de los string literals ir a la [documentación](https://docs.python.org/3.7/reference/lexical_analysis.html#string-and-bytes-literals).\n"
      ],
      "metadata": {
        "id": "MphIACBBzZ1Q"
      }
    },
    {
      "cell_type": "code",
      "source": [],
      "metadata": {
        "id": "Ox3adp-TzrNO"
      },
      "execution_count": 31,
      "outputs": []
    },
    {
      "cell_type": "code",
      "source": [],
      "metadata": {
        "id": "B021jSN20lq6"
      },
      "execution_count": 31,
      "outputs": []
    },
    {
      "cell_type": "markdown",
      "source": [
        "## Concatenacion de Strings\n",
        "La concatenacion es una operacion que une dos o mas strings en uno solo, en Python, usamos el operador +."
      ],
      "metadata": {
        "id": "pGhKCCLr1fQL"
      }
    },
    {
      "cell_type": "code",
      "source": [],
      "metadata": {
        "id": "0hCTaMbG2ztS"
      },
      "execution_count": 31,
      "outputs": []
    }
  ]
}
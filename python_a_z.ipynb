{
  "nbformat": 4,
  "nbformat_minor": 0,
  "metadata": {
    "colab": {
      "provenance": [],
      "authorship_tag": "ABX9TyNvbTpYLUjMSIeXbVGLc5D0"
    },
    "kernelspec": {
      "name": "python3",
      "display_name": "Python 3"
    },
    "language_info": {
      "name": "python"
    }
  },
  "cells": [
    {
      "cell_type": "markdown",
      "source": [
        "# Variables\n",
        "Es un espacio en la memoria asociado a un identificador (Nombre) donde asignamos valores.\n",
        "\n",
        "En python se asignan ***nombre_variable = valor***"
      ],
      "metadata": {
        "id": "kZS1bCdp0E8G"
      }
    },
    {
      "cell_type": "code",
      "execution_count": null,
      "metadata": {
        "id": "0xdfT_Jl0Dzw",
        "outputId": "630a53bb-3499-4556-b712-522f02c601eb",
        "colab": {
          "base_uri": "https://localhost:8080/"
        }
      },
      "outputs": [
        {
          "output_type": "stream",
          "name": "stdout",
          "text": [
            "Ricardo\n",
            "1\n",
            "True\n"
          ]
        }
      ],
      "source": [
        "x = 1\n",
        "nombre = 'Ricardo' # Variable de tipo string\n",
        "boleano = True # Variable de tipo bool\n",
        "\n",
        "print(nombre)\n",
        "print(x)\n",
        "print(boleano)"
      ]
    },
    {
      "cell_type": "markdown",
      "source": [
        "## Reglas para los nombres de las variables en Python\n",
        "\n",
        "*   Si son dos palabras o mas, se separan con **_**\n",
        "        nombre_variable\n",
        "*   No pueden contener caracteres especiales\n",
        "*   No pueden empezar por numeros\n",
        "*   No pueden llamarse como palabras reservadas\n",
        "*   No puede contener espacios"
      ],
      "metadata": {
        "id": "R62t-mzS3eKv"
      }
    },
    {
      "cell_type": "markdown",
      "source": [
        "## Declarar multiples variables en una sola linea"
      ],
      "metadata": {
        "id": "aJ94MhsO2wxk"
      }
    },
    {
      "cell_type": "code",
      "source": [
        "variable1, variable_2, variable3 = 10, 'Hola', True # Asignamos un valor diferente a cada variable\n",
        "#nom1, nom2, nom3 = 'Ricardo' # Asignamos el mismo valor a las 3 variables"
      ],
      "metadata": {
        "id": "l3poQnkI26Fk"
      },
      "execution_count": null,
      "outputs": []
    },
    {
      "cell_type": "markdown",
      "source": [
        "## Operando con una variable numerica"
      ],
      "metadata": {
        "id": "Q8JTARbi5blL"
      }
    },
    {
      "cell_type": "code",
      "source": [
        "a = 5\n",
        "b = 9\n",
        "c = a + b\n",
        "print(c)\n",
        "a += 1 # Sumamos 1 a la variable a\n",
        "print(a)"
      ],
      "metadata": {
        "id": "HWeJXIOg5ftN",
        "colab": {
          "base_uri": "https://localhost:8080/"
        },
        "outputId": "1f2b5f0c-d0fe-4f99-f3ad-c08cf4818290"
      },
      "execution_count": null,
      "outputs": [
        {
          "output_type": "stream",
          "name": "stdout",
          "text": [
            "14\n",
            "6\n"
          ]
        }
      ]
    },
    {
      "cell_type": "markdown",
      "source": [
        "Al igual que existe **+=**, tambien tenemos los operadores **-=**, ***=**, **/=**, **//=**, **%=** y ****=**, que son el resto de operadores que tenemos con Python"
      ],
      "metadata": {
        "id": "NmxKpFhd7yd9"
      }
    },
    {
      "cell_type": "markdown",
      "source": [
        "# La funcion import\n",
        "\n",
        "\n",
        "*   **Algoritmo:** Conjunto ordenado de operaciones sistematicas que permite hacer un calculo o hallar la solucion a un problema\n",
        "*   **Funcion:** Bloque de codigo con un nombre asociado que recibe cero o mas argumentos como entrada, sigue una secuencia de sentencias, las cuales ejecuta una operacion deseada y devuelve un valor o realiza una tarea\n",
        "*   **Script:** Archivo diseñado para ser ejecutado. Puede contener funciones, programas, etc\n",
        "*   **Modulo:** Scrip que contiene colecciones de funciones, definiciones y declaraciones\n",
        "\n",
        "Con import podemos importar modulos con funciones especificas, como la libreria math."
      ],
      "metadata": {
        "id": "y1Z2hSRl989u"
      }
    },
    {
      "cell_type": "code",
      "source": [
        "import math"
      ],
      "metadata": {
        "id": "5yDoLc2q_N6a"
      },
      "execution_count": null,
      "outputs": []
    },
    {
      "cell_type": "markdown",
      "source": [
        "A la hora de usar funciones de un modulo que hemos importado, debemos usar la siguiente sintaxis:"
      ],
      "metadata": {
        "id": "hlXI2HWTAMVl"
      }
    },
    {
      "cell_type": "code",
      "source": [
        "#Aqui mandamos a llamar la funcion str del modulo math"
      ],
      "metadata": {
        "id": "Qn13br-7AfAZ"
      },
      "execution_count": null,
      "outputs": []
    },
    {
      "cell_type": "markdown",
      "source": [
        "## Asignar alias a una libreria importada\n",
        "Pero para evitarnos poner el nombre completo del modulo, podemos asignarle un alias al momento de importarlo con la palabra reservada **as**:"
      ],
      "metadata": {
        "id": "t0CqFU2QA_0V"
      }
    },
    {
      "cell_type": "code",
      "source": [
        "import math as mt\n",
        "mt.sqrt(10) #Aqui mandamos a llamar la funcion sqrt del modulo math"
      ],
      "metadata": {
        "id": "7SNuNYqzBLHY",
        "colab": {
          "base_uri": "https://localhost:8080/"
        },
        "outputId": "9e88c67f-a941-44c7-9b56-8f980431d6c5"
      },
      "execution_count": null,
      "outputs": [
        {
          "output_type": "execute_result",
          "data": {
            "text/plain": [
              "3.1622776601683795"
            ]
          },
          "metadata": {},
          "execution_count": 4
        }
      ]
    },
    {
      "cell_type": "markdown",
      "source": [
        "## Importar solo una funcion o variable\n",
        "En el caso que solo ocupemos una funcion o variable en especifico, podemos evitarnos importar todo el modulo y solo importar lo que necesitamos:"
      ],
      "metadata": {
        "id": "-ZIrsV_2BxFC"
      }
    },
    {
      "cell_type": "code",
      "source": [
        "from math import pi\n",
        "from math import pi as mt_pi #Le asignamos un alias\n",
        "mt_pi"
      ],
      "metadata": {
        "id": "j3ZGBcDdCBff",
        "colab": {
          "base_uri": "https://localhost:8080/"
        },
        "outputId": "96c27955-a3fb-4bbe-803c-9b28e37b6bb2"
      },
      "execution_count": null,
      "outputs": [
        {
          "output_type": "execute_result",
          "data": {
            "text/plain": [
              "3.141592653589793"
            ]
          },
          "metadata": {},
          "execution_count": 7
        }
      ]
    },
    {
      "cell_type": "markdown",
      "source": [
        "## Importar varias funciones o variables de un modulo\n",
        "Podemos importar varias funciones o variables de un modulo de la siguiente manera, evitandonos tener que usar el nombre del modulo, basta solo colocando el nombre de la funcion o variable que importamos."
      ],
      "metadata": {
        "id": "AyebTyvxC0Xk"
      }
    },
    {
      "cell_type": "code",
      "source": [
        "from math import pi, log, exp"
      ],
      "metadata": {
        "id": "8FL3hz9xDA2c"
      },
      "execution_count": null,
      "outputs": []
    },
    {
      "cell_type": "markdown",
      "source": [
        "## Usar las funciones sin colocar el nombre de la libreria antes\n",
        "Podemos importar todas las funciones de la siguiente memoria, de esta manera evitamos usar las funciones sin colocar antes el nombre de la libreria, pero es un problema ya que no tendriamos referencia a que modulo queremos utilizar en el caso que haya dos funciones con el mismo nombre."
      ],
      "metadata": {
        "id": "M7xhPOKbDa0Z"
      }
    },
    {
      "cell_type": "code",
      "source": [
        "from math import * #ESTO ES LA PRACTICA MENOS RECOMENDABLE\n",
        "pi"
      ],
      "metadata": {
        "id": "exzF8UTPD3NR",
        "colab": {
          "base_uri": "https://localhost:8080/"
        },
        "outputId": "606d5a02-2747-4730-e189-56a3b2c1a1c3"
      },
      "execution_count": null,
      "outputs": [
        {
          "output_type": "execute_result",
          "data": {
            "text/plain": [
              "3.141592653589793"
            ]
          },
          "metadata": {},
          "execution_count": 8
        }
      ]
    },
    {
      "cell_type": "markdown",
      "source": [
        "# Numeros"
      ],
      "metadata": {
        "id": "3siFYw_GOycx"
      }
    },
    {
      "cell_type": "markdown",
      "source": [
        "## Tipos de numeros\n",
        "Hay dos tipos de numeros basicos en Python:\n",
        "*   **int:** Numeros enteros\n",
        "*   **float:** Numeros con punto decimal\n",
        "\n",
        "Con la funcion type() podemos saber que tipo de dato es"
      ],
      "metadata": {
        "id": "ZEZS3o6uO2OM"
      }
    },
    {
      "cell_type": "code",
      "source": [
        "type(5)"
      ],
      "metadata": {
        "id": "tg9jUjYBPOCH",
        "colab": {
          "base_uri": "https://localhost:8080/"
        },
        "outputId": "eaeb146e-0481-4b44-e12b-66efbf1c9b5c"
      },
      "execution_count": null,
      "outputs": [
        {
          "output_type": "execute_result",
          "data": {
            "text/plain": [
              "int"
            ]
          },
          "metadata": {},
          "execution_count": 12
        }
      ]
    },
    {
      "cell_type": "code",
      "source": [
        "type(5.0)"
      ],
      "metadata": {
        "colab": {
          "base_uri": "https://localhost:8080/"
        },
        "id": "XYwAPyO8M0Yh",
        "outputId": "d64623b0-0ba6-4725-b7a3-5ad7dc30afb6"
      },
      "execution_count": null,
      "outputs": [
        {
          "output_type": "execute_result",
          "data": {
            "text/plain": [
              "float"
            ]
          },
          "metadata": {},
          "execution_count": 13
        }
      ]
    },
    {
      "cell_type": "code",
      "source": [
        "type(3.)"
      ],
      "metadata": {
        "colab": {
          "base_uri": "https://localhost:8080/"
        },
        "id": "6p6A0Mu6Q38u",
        "outputId": "b50ba9d9-99d4-4a05-efed-d764de4b6b7a"
      },
      "execution_count": null,
      "outputs": [
        {
          "output_type": "execute_result",
          "data": {
            "text/plain": [
              "float"
            ]
          },
          "metadata": {},
          "execution_count": 14
        }
      ]
    },
    {
      "cell_type": "markdown",
      "source": [
        "## Casting (Transformar tipos de datos)\n",
        "Si queremos transformar tipos de datos, por ejemplo int a float, usamos casting.\n",
        "\n",
        "Si pasamos de float a int, perdemos la parte decimal."
      ],
      "metadata": {
        "id": "XSF8ZnE_P2rG"
      }
    },
    {
      "cell_type": "code",
      "source": [
        "type(int(7.25))"
      ],
      "metadata": {
        "id": "NTvrtK11QEYg",
        "colab": {
          "base_uri": "https://localhost:8080/"
        },
        "outputId": "e25c56e1-87bc-4070-aca6-c65420655e0b"
      },
      "execution_count": null,
      "outputs": [
        {
          "output_type": "execute_result",
          "data": {
            "text/plain": [
              "int"
            ]
          },
          "metadata": {},
          "execution_count": 15
        }
      ]
    },
    {
      "cell_type": "code",
      "source": [
        "type(int(4.))"
      ],
      "metadata": {
        "colab": {
          "base_uri": "https://localhost:8080/"
        },
        "id": "3fJcz3D0R0Yt",
        "outputId": "0581d950-4775-4007-fd66-2df762fd3caf"
      },
      "execution_count": null,
      "outputs": [
        {
          "output_type": "execute_result",
          "data": {
            "text/plain": [
              "int"
            ]
          },
          "metadata": {},
          "execution_count": 17
        }
      ]
    },
    {
      "cell_type": "code",
      "source": [
        "type(float(6))"
      ],
      "metadata": {
        "colab": {
          "base_uri": "https://localhost:8080/"
        },
        "id": "ijGSLn1ORwz_",
        "outputId": "2fbf4403-4ff9-49d0-ef42-3c4148258c0c"
      },
      "execution_count": null,
      "outputs": [
        {
          "output_type": "execute_result",
          "data": {
            "text/plain": [
              "float"
            ]
          },
          "metadata": {},
          "execution_count": 16
        }
      ]
    },
    {
      "cell_type": "markdown",
      "source": [
        "## Operaciones Aritmeticas"
      ],
      "metadata": {
        "id": "EYveutmlZnU_"
      }
    },
    {
      "cell_type": "markdown",
      "source": [
        "### Suma\n",
        "Para sumar dos o mas numeros usamos el operador de +.\n",
        "\n",
        "La suma de dos enteros da un entero, pero la suma de un entero y un float, da como resultado un float.\n"
      ],
      "metadata": {
        "id": "Ka3FsYmpRMoL"
      }
    },
    {
      "cell_type": "code",
      "source": [
        "2 + 3"
      ],
      "metadata": {
        "id": "RTWb_xi5R5BJ",
        "colab": {
          "base_uri": "https://localhost:8080/"
        },
        "outputId": "ed3fa607-e0ba-4d9c-a375-5c88c92db2a6"
      },
      "execution_count": null,
      "outputs": [
        {
          "output_type": "execute_result",
          "data": {
            "text/plain": [
              "5"
            ]
          },
          "metadata": {},
          "execution_count": 18
        }
      ]
    },
    {
      "cell_type": "code",
      "source": [
        "25.65 + 50"
      ],
      "metadata": {
        "colab": {
          "base_uri": "https://localhost:8080/"
        },
        "id": "UtGlFVniS51G",
        "outputId": "1d20c630-dbcb-49cf-a918-25195d0d0230"
      },
      "execution_count": null,
      "outputs": [
        {
          "output_type": "execute_result",
          "data": {
            "text/plain": [
              "75.65"
            ]
          },
          "metadata": {},
          "execution_count": 19
        }
      ]
    },
    {
      "cell_type": "markdown",
      "source": [
        "### Resta\n",
        "Para restar dos o mas numeros usamos el operador de -.\n",
        "\n",
        "La resta de dos enteros da un entero, pero la resta de un entero y un float, da como resultado un float."
      ],
      "metadata": {
        "id": "iUqBl7RrSXo5"
      }
    },
    {
      "cell_type": "code",
      "source": [
        "7 - 3"
      ],
      "metadata": {
        "id": "2Ed_2OhxShMt",
        "outputId": "8bece5d6-2e9d-4f31-a97c-8b331d2b4969",
        "colab": {
          "base_uri": "https://localhost:8080/"
        }
      },
      "execution_count": null,
      "outputs": [
        {
          "output_type": "execute_result",
          "data": {
            "text/plain": [
              "4"
            ]
          },
          "metadata": {},
          "execution_count": 20
        }
      ]
    },
    {
      "cell_type": "code",
      "source": [
        "125.3 - 25"
      ],
      "metadata": {
        "colab": {
          "base_uri": "https://localhost:8080/"
        },
        "id": "f9EtdVloTSZf",
        "outputId": "6883d14d-6f0f-4f9e-f57c-1bdf6a5b88c7"
      },
      "execution_count": null,
      "outputs": [
        {
          "output_type": "execute_result",
          "data": {
            "text/plain": [
              "100.3"
            ]
          },
          "metadata": {},
          "execution_count": 21
        }
      ]
    },
    {
      "cell_type": "markdown",
      "source": [
        "### Multiplicacion\n",
        "Para multiplicar dos o mas numeros usamos el operador de *.\n",
        "\n",
        "La multiplicacion de dos enteros da un entero, pero la multiplicacion de un entero y un float, da como resultado un float.\n"
      ],
      "metadata": {
        "id": "2Q2pMNF-SmpP"
      }
    },
    {
      "cell_type": "code",
      "source": [
        "8 * 6"
      ],
      "metadata": {
        "id": "fSabitbFStOS",
        "colab": {
          "base_uri": "https://localhost:8080/"
        },
        "outputId": "502c5e8d-0116-4d3a-e398-b1499350d126"
      },
      "execution_count": null,
      "outputs": [
        {
          "output_type": "execute_result",
          "data": {
            "text/plain": [
              "48"
            ]
          },
          "metadata": {},
          "execution_count": 22
        }
      ]
    },
    {
      "cell_type": "code",
      "source": [
        "8.36 * 20"
      ],
      "metadata": {
        "colab": {
          "base_uri": "https://localhost:8080/"
        },
        "id": "kqlv2aaBTWVo",
        "outputId": "1b6a366d-ab3f-41e7-f62c-03e41d8266fd"
      },
      "execution_count": null,
      "outputs": [
        {
          "output_type": "execute_result",
          "data": {
            "text/plain": [
              "167.2"
            ]
          },
          "metadata": {},
          "execution_count": 23
        }
      ]
    },
    {
      "cell_type": "markdown",
      "source": [
        "### Division\n",
        "Para dividir dos numeros usamos el operador de /.\n",
        "\n",
        "En algunas versiones de Python, al dividir dos numeros enteros, se lleva a cabo la division entera de manera automatica.\n",
        "Podemos poner al menos un numero float para asegurarnos que no hara la division entera."
      ],
      "metadata": {
        "id": "ha0XPcBZSwra"
      }
    },
    {
      "cell_type": "code",
      "source": [
        "6 / 5"
      ],
      "metadata": {
        "id": "z0S02A1xS11M",
        "colab": {
          "base_uri": "https://localhost:8080/"
        },
        "outputId": "8d3c51e7-5e67-402d-8333-ad90f8b56fd4"
      },
      "execution_count": null,
      "outputs": [
        {
          "output_type": "execute_result",
          "data": {
            "text/plain": [
              "1.2"
            ]
          },
          "metadata": {},
          "execution_count": 24
        }
      ]
    },
    {
      "cell_type": "code",
      "source": [
        "4 / 2"
      ],
      "metadata": {
        "colab": {
          "base_uri": "https://localhost:8080/"
        },
        "id": "B7MX587QTbmj",
        "outputId": "4b0394e1-ff43-493d-e4cd-e4862644eaa2"
      },
      "execution_count": null,
      "outputs": [
        {
          "output_type": "execute_result",
          "data": {
            "text/plain": [
              "2.0"
            ]
          },
          "metadata": {},
          "execution_count": 25
        }
      ]
    },
    {
      "cell_type": "markdown",
      "source": [
        "### Division entera o euclidea\n",
        "Se utiliza para calcular el cociente de la división de dos números enteros. Esto significa que, en lugar de obtener un resultado decimal, obtendrás un número entero que representa la parte entera del cociente y se usa el operador //."
      ],
      "metadata": {
        "id": "U5DDzx5zTVXM"
      }
    },
    {
      "cell_type": "code",
      "source": [
        "10 // 3"
      ],
      "metadata": {
        "id": "WgVdD8tFT8Rq",
        "colab": {
          "base_uri": "https://localhost:8080/"
        },
        "outputId": "8c8f04bd-916d-4821-9665-a0263accc255"
      },
      "execution_count": null,
      "outputs": [
        {
          "output_type": "execute_result",
          "data": {
            "text/plain": [
              "3"
            ]
          },
          "metadata": {},
          "execution_count": 38
        }
      ]
    },
    {
      "cell_type": "code",
      "source": [
        "10 / 3"
      ],
      "metadata": {
        "colab": {
          "base_uri": "https://localhost:8080/"
        },
        "id": "Fj4__fF0Udqp",
        "outputId": "37ee744e-8ca1-4e76-efa9-3a38815c0441"
      },
      "execution_count": null,
      "outputs": [
        {
          "output_type": "execute_result",
          "data": {
            "text/plain": [
              "3.3333333333333335"
            ]
          },
          "metadata": {},
          "execution_count": 27
        }
      ]
    },
    {
      "cell_type": "markdown",
      "source": [
        "### Division modulo\n",
        "Devuelve el residuo de una división entre dos números enteros y se usa el operador %."
      ],
      "metadata": {
        "id": "iZUldVbZUE_V"
      }
    },
    {
      "cell_type": "code",
      "source": [
        "10 % 3"
      ],
      "metadata": {
        "id": "T-0wK7q_UXwD",
        "colab": {
          "base_uri": "https://localhost:8080/"
        },
        "outputId": "2a5b61e4-1f39-45cc-d47f-78b6440e63f2"
      },
      "execution_count": null,
      "outputs": [
        {
          "output_type": "execute_result",
          "data": {
            "text/plain": [
              "1"
            ]
          },
          "metadata": {},
          "execution_count": 28
        }
      ]
    },
    {
      "cell_type": "markdown",
      "source": [
        "### Potencia\n",
        "Para calcular la potencia de un numero se usa el operador **.\n"
      ],
      "metadata": {
        "id": "5evBryr0UgLW"
      }
    },
    {
      "cell_type": "code",
      "source": [
        "5 ** 3"
      ],
      "metadata": {
        "colab": {
          "base_uri": "https://localhost:8080/"
        },
        "id": "Muq9Tx9TVY0G",
        "outputId": "5148ed0b-20c4-40f8-c1f1-268fab0331ce"
      },
      "execution_count": null,
      "outputs": [
        {
          "output_type": "execute_result",
          "data": {
            "text/plain": [
              "125"
            ]
          },
          "metadata": {},
          "execution_count": 31
        }
      ]
    },
    {
      "cell_type": "markdown",
      "source": [
        "### Potencia con pow()\n",
        "Para calcular la potencia tambien podemos usar el operador pow()."
      ],
      "metadata": {
        "id": "o-wIgbw6VomP"
      }
    },
    {
      "cell_type": "code",
      "source": [
        "mt.pow(5, 3)"
      ],
      "metadata": {
        "colab": {
          "base_uri": "https://localhost:8080/"
        },
        "id": "o_WgTTqdVy7U",
        "outputId": "43823de4-036f-4e35-e508-c8b98ed4d822"
      },
      "execution_count": null,
      "outputs": [
        {
          "output_type": "execute_result",
          "data": {
            "text/plain": [
              "125.0"
            ]
          },
          "metadata": {},
          "execution_count": 36
        }
      ]
    },
    {
      "cell_type": "markdown",
      "source": [
        "### Orden de las operaciones aritmeticas\n",
        "El orden en que se llevan a cabo las operaciones es:\n",
        "*   Primero se calcula lo que se encuentre entre parentesis.\n",
        "*   Despues las potencias.\n",
        "*   Luego, multiplicaciones y divisiones, en caso de haber varias, el orden que se sigue es de izquierda a derecha.\n",
        "*   Finalmente, sumas y restas, en caso de haber varias, el orden que se sigue es de izquierda a derecha.\n"
      ],
      "metadata": {
        "id": "IYR5MLdhWYF_"
      }
    },
    {
      "cell_type": "code",
      "source": [
        "6 + 2 * 8 / 4 - 2 ** 3"
      ],
      "metadata": {
        "id": "0wYgw4g-W7F1",
        "colab": {
          "base_uri": "https://localhost:8080/"
        },
        "outputId": "6a5a9489-3594-4069-bc87-5cd79f0b852e"
      },
      "execution_count": null,
      "outputs": [
        {
          "output_type": "execute_result",
          "data": {
            "text/plain": [
              "2.0"
            ]
          },
          "metadata": {},
          "execution_count": 39
        }
      ]
    },
    {
      "cell_type": "code",
      "source": [
        "(6 + 2) * (8 / (4 - 2)) ** 3"
      ],
      "metadata": {
        "colab": {
          "base_uri": "https://localhost:8080/"
        },
        "id": "Hf-pCCrVW98g",
        "outputId": "9110d363-ccca-4ef7-9f5b-9f0863fdd1cb"
      },
      "execution_count": null,
      "outputs": [
        {
          "output_type": "execute_result",
          "data": {
            "text/plain": [
              "512.0"
            ]
          },
          "metadata": {},
          "execution_count": 40
        }
      ]
    },
    {
      "cell_type": "code",
      "source": [
        "(6 + 2) * 8 / (4 - 2) ** 3"
      ],
      "metadata": {
        "id": "SJk2OJ9nXGK-",
        "outputId": "d5bb6c16-0476-4185-e099-9fd156fb58b5",
        "colab": {
          "base_uri": "https://localhost:8080/"
        }
      },
      "execution_count": null,
      "outputs": [
        {
          "output_type": "execute_result",
          "data": {
            "text/plain": [
              "8.0"
            ]
          },
          "metadata": {},
          "execution_count": 41
        }
      ]
    },
    {
      "cell_type": "markdown",
      "source": [
        "## Numeros Complejos\n",
        "Los numeros complejos surgen cuando los numeros reales no son suficientes para ciertas operaciones y que han resultado utiles en el analisis.\n",
        "\n",
        "Nacen cuando se intenta resolver una ecuacion donde aparece una raiz cuadrada de un numero negativo."
      ],
      "metadata": {
        "id": "rcXC0jJwZhB4"
      }
    },
    {
      "cell_type": "markdown",
      "metadata": {
        "id": "CyFbhpyECDnl"
      },
      "source": [
        "### Definiciones\n",
        "\n",
        "\n",
        "- **Número complejo.** Es un par ordenado de números reales $z = (a, b)$, con $a,b\\in\\mathbb{R}$.\n",
        "- **Parte real.** Es el primer elemento del par ordenado, $\\text{Re}(z) = a$.\n",
        "- **Parte imaginaria.** Es el segundo elemento del par ordenado, $\\text{Im}(z) = b$.\n",
        "- **Complejo real.** $z = (a, 0)$.\n",
        "- **Imaginario puro.** $z = (0, b)$.\n",
        "- **Unidad imaginaria.** $i = (0, 1)$.\n",
        "- **Conjunto de números complejos.** $\\mathbb{C} = \\{z = (a,b)\\ :\\ a,b\\in\\mathbb{R}\\}$.\n",
        "\n"
      ]
    },
    {
      "cell_type": "markdown",
      "metadata": {
        "id": "-1cj7iqWCFGU"
      },
      "source": [
        "### Operaciones\n",
        "\n",
        "- Suma: $(a, b) + (c, d) = (a + c, b + d)$\n",
        "- Resta: $(a, b) - (c, d) = (a - c, b - d)$\n",
        "- Producto: $(a, b) \\cdot (c, d) = (a \\cdot c - b \\cdot d, a\\cdot d + b\\cdot c)$\n",
        "- División: $(a, b) \\div (c, d) = \\frac{(a \\cdot c + b \\cdot d, b \\cdot c - a \\cdot d)}{c^2 + d^2} = \\left(\\frac{a \\cdot c + b \\cdot d}{c^2 + d^2},\\frac{b \\cdot c - a \\cdot d}{c^2 + d^2}\\right)$\n",
        "\n"
      ]
    },
    {
      "cell_type": "markdown",
      "metadata": {
        "id": "lEz__b2GCGoZ"
      },
      "source": [
        "### Conjugado, Módulo y Argumento\n",
        "\n",
        "Dado un complejo $z = (a,b)$,\n",
        "\n",
        "- **Conjugado.** $\\bar{z} = (a, -b)$.\n",
        "- **Módulo.** $\\text{Mod}(z) = |z| = \\sqrt{\\text{Re}(z)^2 + \\text{Im}(z)^2} = \\sqrt{a^2 + b^2}$.\n",
        "- **Argumento.** $\\text{Arg}(z) = \\arctan\\left(\\frac{\\text{Im}(z)}{\\text{Re}(z)}\\right) = \\arctan\\left(\\frac{b}{a}\\right)$\n",
        "\n"
      ]
    },
    {
      "cell_type": "markdown",
      "metadata": {
        "id": "wcrZgFPRCH5X"
      },
      "source": [
        "### Unidad imaginaria\n",
        "\n",
        "$i = (0, 1)$ satisface\n",
        "\n",
        "$$i^2 = (0, 1)^2 = (0, 1)\\cdot (0, 1) = (-1, 0)$$\n",
        "\n",
        "De aquí obtenemos la igualdad $i = \\sqrt{-1}$, que es otra de las definiciones que se le da a la unidad imaginaria.\n",
        "\n"
      ]
    },
    {
      "cell_type": "markdown",
      "metadata": {
        "id": "9muVLk51CJEc"
      },
      "source": [
        "### Otras representaciones\n",
        "\n",
        "Representación binómica: $z = a + bi$\n",
        "\n",
        "- $a = \\text{Re}(z)$\n",
        "- $b = \\text{Im}(z)$\n",
        "\n",
        "Representación polar: $z = re^{i\\phi}$\n",
        "\n",
        "- $r = \\text{Mod}(z)$\n",
        "- $\\phi = \\text{Arg}(z)$"
      ]
    },
    {
      "cell_type": "markdown",
      "metadata": {
        "id": "3t2_gS8rB_S3"
      },
      "source": [
        "\n",
        "### Números complejos en `Python`\n",
        "\n",
        "**Observación.** En `Python`, los números complejos se definen en forma binómica y en vez de utilizar una `i`, se utiliza la letra `j` para representar la unidad imaginaria.\n",
        "\n"
      ]
    },
    {
      "cell_type": "code",
      "metadata": {
        "id": "gi1AkKvcXkeE",
        "colab": {
          "base_uri": "https://localhost:8080/"
        },
        "outputId": "14e4273d-1a97-4959-9d12-3320db6b7650"
      },
      "source": [],
      "execution_count": null,
      "outputs": [
        {
          "output_type": "execute_result",
          "data": {
            "text/plain": [
              "(2+5j)"
            ]
          },
          "metadata": {},
          "execution_count": 3
        }
      ]
    },
    {
      "cell_type": "code",
      "metadata": {
        "id": "I4A7wfd6dzY0",
        "colab": {
          "base_uri": "https://localhost:8080/"
        },
        "outputId": "9e9a9e87-be73-4828-99cc-3c475497cea3"
      },
      "source": [],
      "execution_count": null,
      "outputs": [
        {
          "output_type": "execute_result",
          "data": {
            "text/plain": [
              "complex"
            ]
          },
          "metadata": {},
          "execution_count": 2
        }
      ]
    },
    {
      "cell_type": "markdown",
      "metadata": {
        "id": "STMrzIARd5xX"
      },
      "source": [
        "También podemos definir números complejos en `Python` con la función `complex()`"
      ]
    },
    {
      "cell_type": "code",
      "metadata": {
        "id": "fCwnmAp2d2_m",
        "colab": {
          "base_uri": "https://localhost:8080/"
        },
        "outputId": "08553398-2356-498e-ff15-5e38e6691e27"
      },
      "source": [],
      "execution_count": null,
      "outputs": [
        {
          "output_type": "execute_result",
          "data": {
            "text/plain": [
              "(1-7j)"
            ]
          },
          "metadata": {
            "tags": []
          },
          "execution_count": 10
        }
      ]
    },
    {
      "cell_type": "code",
      "metadata": {
        "id": "RjklDHWWd-aq",
        "colab": {
          "base_uri": "https://localhost:8080/"
        },
        "outputId": "49a687bc-a707-4335-ba07-c6df3d93623b"
      },
      "source": [],
      "execution_count": null,
      "outputs": [
        {
          "output_type": "execute_result",
          "data": {
            "text/plain": [
              "complex"
            ]
          },
          "metadata": {
            "tags": []
          },
          "execution_count": 11
        }
      ]
    },
    {
      "cell_type": "markdown",
      "metadata": {
        "id": "07A6HHDl_S06"
      },
      "source": [
        "Para obtener la parte real, utilizamos el método `.real`"
      ]
    },
    {
      "cell_type": "code",
      "metadata": {
        "id": "3-W1icz_d_HT",
        "colab": {
          "base_uri": "https://localhost:8080/"
        },
        "outputId": "65731b44-d968-4bb4-d0f8-e8b098d59190"
      },
      "source": [],
      "execution_count": null,
      "outputs": [
        {
          "output_type": "execute_result",
          "data": {
            "text/plain": [
              "1.0"
            ]
          },
          "metadata": {
            "tags": []
          },
          "execution_count": 12
        }
      ]
    },
    {
      "cell_type": "markdown",
      "metadata": {
        "id": "TUes0F0c_WsI"
      },
      "source": [
        "Para obtener la parte imaginaria, utilizamos el método `.imag`"
      ]
    },
    {
      "cell_type": "code",
      "metadata": {
        "id": "ifODsy08_Vsq",
        "colab": {
          "base_uri": "https://localhost:8080/"
        },
        "outputId": "c85ae8bf-e9e0-487e-ab29-c2a2acf2f4e2"
      },
      "source": [],
      "execution_count": null,
      "outputs": [
        {
          "output_type": "execute_result",
          "data": {
            "text/plain": [
              "-7.0"
            ]
          },
          "metadata": {
            "tags": []
          },
          "execution_count": 13
        }
      ]
    },
    {
      "cell_type": "markdown",
      "metadata": {
        "id": "6T4K84e-_ex7"
      },
      "source": [
        "Para sumar números complejos, utilizamos la función `+`"
      ]
    },
    {
      "cell_type": "code",
      "metadata": {
        "id": "UjST8q0j_Z9c",
        "colab": {
          "base_uri": "https://localhost:8080/"
        },
        "outputId": "85d51744-47bf-45d3-a595-f143b4393998"
      },
      "source": [],
      "execution_count": null,
      "outputs": [
        {
          "output_type": "execute_result",
          "data": {
            "text/plain": [
              "(7-2j)"
            ]
          },
          "metadata": {
            "tags": []
          },
          "execution_count": 14
        }
      ]
    },
    {
      "cell_type": "markdown",
      "metadata": {
        "id": "ZSnIb7gK_i2S"
      },
      "source": [
        "Para restar números complejos, utilizamos la función `-`"
      ]
    },
    {
      "cell_type": "code",
      "metadata": {
        "id": "Dnj8COfl_csJ",
        "colab": {
          "base_uri": "https://localhost:8080/"
        },
        "outputId": "b01861aa-6a4c-42b6-ae85-01b03688cbc5"
      },
      "source": [],
      "execution_count": null,
      "outputs": [
        {
          "output_type": "execute_result",
          "data": {
            "text/plain": [
              "(-3-10j)"
            ]
          },
          "metadata": {
            "tags": []
          },
          "execution_count": 15
        }
      ]
    },
    {
      "cell_type": "markdown",
      "metadata": {
        "id": "ukK7dawe_lz9"
      },
      "source": [
        "Para multiplicar una constante por un número complejo, o bien multiplicar dos números complejos, utilizamos la función `*`"
      ]
    },
    {
      "cell_type": "code",
      "metadata": {
        "id": "gjQ0sBz1_k7s",
        "colab": {
          "base_uri": "https://localhost:8080/",
          "height": 34
        },
        "outputId": "4b642850-6f77-4c64-d3ad-c45e7f9c4f1d"
      },
      "source": [],
      "execution_count": null,
      "outputs": [
        {
          "output_type": "execute_result",
          "data": {
            "text/plain": [
              "(-2+6j)"
            ]
          },
          "metadata": {
            "tags": []
          },
          "execution_count": 48
        }
      ]
    },
    {
      "cell_type": "code",
      "metadata": {
        "id": "8nIF9I8n_qo6",
        "colab": {
          "base_uri": "https://localhost:8080/",
          "height": 34
        },
        "outputId": "e832a453-f825-42ff-b188-f89074a9de1c"
      },
      "source": [],
      "execution_count": null,
      "outputs": [
        {
          "output_type": "execute_result",
          "data": {
            "text/plain": [
              "(34-22j)"
            ]
          },
          "metadata": {
            "tags": []
          },
          "execution_count": 49
        }
      ]
    },
    {
      "cell_type": "markdown",
      "metadata": {
        "id": "66NOmMzQ_sfh"
      },
      "source": [
        "Para dividir números complejos, utilizamos la función `/`"
      ]
    },
    {
      "cell_type": "code",
      "metadata": {
        "id": "-xHQhzzn_rs-",
        "colab": {
          "base_uri": "https://localhost:8080/"
        },
        "outputId": "bcc853f2-210c-4017-fc31-fdc1df94705e"
      },
      "source": [],
      "execution_count": null,
      "outputs": [
        {
          "output_type": "execute_result",
          "data": {
            "text/plain": [
              "-1j"
            ]
          },
          "metadata": {
            "tags": []
          },
          "execution_count": 16
        }
      ]
    },
    {
      "cell_type": "markdown",
      "metadata": {
        "id": "P43dIsZO_x8X"
      },
      "source": [
        "**Observación.** Si queremos indicar que la parte imaginaria es 1 o -1, no basta con poner `j` o `-j`, sino que hay que escribir `1j` o `-1j`, siempre que definamos el número complejo en su forma binómica.\n",
        "\n",
        "Para calcular el conjugado de un número complejo, utilizamos el método `.conjugate()`"
      ]
    },
    {
      "cell_type": "code",
      "metadata": {
        "id": "wcgbkdEj_wmp",
        "colab": {
          "base_uri": "https://localhost:8080/"
        },
        "outputId": "4e905cc2-c3f4-4680-ade9-1fe4a5881b60"
      },
      "source": [],
      "execution_count": null,
      "outputs": [
        {
          "output_type": "execute_result",
          "data": {
            "text/plain": [
              "(-2-1j)"
            ]
          },
          "metadata": {
            "tags": []
          },
          "execution_count": 17
        }
      ]
    },
    {
      "cell_type": "markdown",
      "metadata": {
        "id": "-FeczLvPAJAh"
      },
      "source": [
        "Para calcular el módulo de un número complejo, utilizamos la función `abs()`"
      ]
    },
    {
      "cell_type": "code",
      "metadata": {
        "id": "KTc0OOHKAGcl",
        "colab": {
          "base_uri": "https://localhost:8080/"
        },
        "outputId": "05ad4cc8-ea70-4876-8169-db7df7153304"
      },
      "source": [],
      "execution_count": null,
      "outputs": [
        {
          "output_type": "execute_result",
          "data": {
            "text/plain": [
              "2.0"
            ]
          },
          "metadata": {
            "tags": []
          },
          "execution_count": 18
        }
      ]
    },
    {
      "cell_type": "markdown",
      "metadata": {
        "id": "A8wRA_JsAMt8"
      },
      "source": [
        "Para calcular el argumento de un número complejo, utilizamos la función `phase()` del paquete `cmath`."
      ]
    },
    {
      "cell_type": "code",
      "metadata": {
        "id": "Ck8u6atKALvV",
        "colab": {
          "base_uri": "https://localhost:8080/"
        },
        "outputId": "28ff8537-19e1-4fa6-f862-4276606172e1"
      },
      "source": [],
      "execution_count": null,
      "outputs": [
        {
          "output_type": "execute_result",
          "data": {
            "text/plain": [
              "1.1902899496825317"
            ]
          },
          "metadata": {},
          "execution_count": 8
        }
      ]
    },
    {
      "cell_type": "markdown",
      "metadata": {
        "id": "BwcTwZmZAgWe"
      },
      "source": [
        "Para pasar de forma binómica a forma polar, usamos la función `polar()` del paquete `cmath`."
      ]
    },
    {
      "cell_type": "code",
      "metadata": {
        "id": "xPOAqf2rA8gC",
        "colab": {
          "base_uri": "https://localhost:8080/",
          "height": 34
        },
        "outputId": "bcc827e4-6a75-4d3a-83a0-28a6ad34d195"
      },
      "source": [],
      "execution_count": null,
      "outputs": [
        {
          "output_type": "execute_result",
          "data": {
            "text/plain": [
              "(-0-2j)"
            ]
          },
          "metadata": {
            "tags": []
          },
          "execution_count": 57
        }
      ]
    },
    {
      "cell_type": "code",
      "metadata": {
        "id": "_tiVpgPqAdu0",
        "colab": {
          "base_uri": "https://localhost:8080/"
        },
        "outputId": "ac4baa82-a606-419b-8140-0b716099dac1"
      },
      "source": [],
      "execution_count": null,
      "outputs": [
        {
          "output_type": "execute_result",
          "data": {
            "text/plain": [
              "(2.0, -1.5707963267948966)"
            ]
          },
          "metadata": {
            "tags": []
          },
          "execution_count": 21
        }
      ]
    },
    {
      "cell_type": "markdown",
      "metadata": {
        "id": "A6cLaSYOAyiq"
      },
      "source": [
        "Para pasar de forma polar a forma binómica, usamos la función `rect()` del paquete `cmath`."
      ]
    },
    {
      "cell_type": "code",
      "metadata": {
        "id": "PzY6qrX4Al2m",
        "colab": {
          "base_uri": "https://localhost:8080/"
        },
        "outputId": "91a28a4f-a371-4b41-ff85-dd1167c8d507"
      },
      "source": [],
      "execution_count": null,
      "outputs": [
        {
          "output_type": "execute_result",
          "data": {
            "text/plain": [
              "(2+5j)"
            ]
          },
          "metadata": {},
          "execution_count": 9
        }
      ]
    },
    {
      "cell_type": "markdown",
      "source": [
        "# String (Cadenas de caracteres)\n",
        "Las variables string (str) en Python pueden ir en comilla simple o doble."
      ],
      "metadata": {
        "id": "0_20fw9RoeuR"
      }
    },
    {
      "cell_type": "code",
      "source": [],
      "metadata": {
        "id": "anpgPhuKv2mS"
      },
      "execution_count": null,
      "outputs": []
    },
    {
      "cell_type": "markdown",
      "source": [
        "## String literals\n",
        "Hay algunos caracteres que debemos escribir de forma especial.\n",
        "\n",
        "Aquí entran en juego los string literals. Algunos de los más utilizados se muestran en la siguiente tabla:\n",
        "\n",
        "Código | Significado |\n",
        "--- | --- |\n",
        "`\\\\` | Backslash, `\\`|\n",
        "`\\'` | Comilla simple, `'`|\n",
        "`\\\"` | Comilla doble, `\"`|  \n",
        "`\\n` | Salto de línea|\n",
        "`\\t` | Tabulación horizontal|\n",
        "\n",
        "Para más información acerca de los string literals ir a la [documentación](https://docs.python.org/3.7/reference/lexical_analysis.html#string-and-bytes-literals).\n"
      ],
      "metadata": {
        "id": "MphIACBBzZ1Q"
      }
    },
    {
      "cell_type": "code",
      "source": [],
      "metadata": {
        "colab": {
          "base_uri": "https://localhost:8080/",
          "height": 35
        },
        "id": "Ox3adp-TzrNO",
        "outputId": "5d27c184-fed0-4041-d34f-b904efee51cb"
      },
      "execution_count": null,
      "outputs": [
        {
          "output_type": "execute_result",
          "data": {
            "text/plain": [
              "'Juan dijo: \"me gusta el chocolate\"'"
            ],
            "application/vnd.google.colaboratory.intrinsic+json": {
              "type": "string"
            }
          },
          "metadata": {},
          "execution_count": 18
        }
      ]
    },
    {
      "cell_type": "code",
      "source": [],
      "metadata": {
        "colab": {
          "base_uri": "https://localhost:8080/"
        },
        "id": "B021jSN20lq6",
        "outputId": "09eceac1-fff5-4b3b-a3b6-84ed789541dd"
      },
      "execution_count": null,
      "outputs": [
        {
          "output_type": "stream",
          "name": "stdout",
          "text": [
            "Ricardo dijo: \n",
            "\t'me gusta la playa'\n"
          ]
        }
      ]
    },
    {
      "cell_type": "markdown",
      "source": [
        "## Concatenacion de Strings\n",
        "La concatenacion es una operacion que une dos o mas strings en uno solo, en Python, usamos el operador +."
      ],
      "metadata": {
        "id": "pGhKCCLr1fQL"
      }
    },
    {
      "cell_type": "code",
      "source": [],
      "metadata": {
        "colab": {
          "base_uri": "https://localhost:8080/"
        },
        "id": "0hCTaMbG2ztS",
        "outputId": "cedf3026-7b52-42a5-f9ee-6b750cf3a394"
      },
      "execution_count": null,
      "outputs": [
        {
          "output_type": "stream",
          "name": "stdout",
          "text": [
            "Ricardo Reyes Flores\n"
          ]
        }
      ]
    }
  ]
}